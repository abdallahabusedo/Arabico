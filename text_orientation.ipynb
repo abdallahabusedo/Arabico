{
 "cells": [
  {
   "cell_type": "code",
   "execution_count": 1,
   "metadata": {},
   "outputs": [],
   "source": [
    "# imports\n",
    "from skimage.filters import threshold_otsu, rank\n",
    "from skimage.util import img_as_ubyte\n",
    "from skimage.io import imread,imsave\n",
    "import cv2\n",
    "import matplotlib.pyplot as plt\n",
    "import numpy as np\n",
    "import skimage as sk\n",
    "from skimage.morphology import binary_dilation,binary_erosion\n",
    "from skimage.transform import rescale, resize, downscale_local_mean\n",
    "from skimage import filters\n",
    "import math\n",
    "import helpers\n",
    "import preprocessing\n",
    "import extract_features\n",
    "%matplotlib inline"
   ]
  },
  {
   "cell_type": "code",
   "execution_count": 3,
   "metadata": {},
   "outputs": [
    {
     "name": "stdout",
     "output_type": "stream",
     "text": [
      "[     0      0      0      0      0      0      0      0      0      0\n",
      "      0      0      0      0      0      0      0      0      0      0\n",
      "      0      0      0      0      0      0      0      0      0      0\n",
      "      0      0      0      0      0      0      0      0      0      0\n",
      "      0      0      0      0      0      0      0      0      0      0\n",
      "      0      0      0      0      0      0      0      0      0      0\n",
      "      0      0      0      0      0      0      0      0      0      0\n",
      "      0      0      0      0      0      0      0      0      0      0\n",
      "      0      0      0      0      0      0      0      0      0      0\n",
      "      0      0      0      0      0      0 123531      0      0      0\n",
      "      0      0      0      0      0      0      0      0      0      0\n",
      "      0      0      0      0      0      0      0      0      0      0\n",
      "      0      0      0      0      0      0      0      0      0      0\n",
      "      0      0      0      0      0      0      0      0      0      0\n",
      "      0      0      0      0      0      0      0      0      0      0\n",
      "      0      0      0      0      0      0      0      0      0      0\n",
      "      0      0      0      0      0      0      0      0      0      0\n",
      "      0      0      0      0      0      0      0      0      0      0\n",
      "      0      0      0      0      0      0      0      0      0      0\n",
      "      0      0      0      0      0      0      0      0      0      0\n",
      "      0      0      0      0      0      0      0      0      0      0\n",
      "      0      0      0      0      0      0      0      0      0      0\n",
      "      0      0      0      0  27669      0      0      0      0      0\n",
      "      0      0      0      0      0      0      0      0      0      0\n",
      "      0      0      0      0      0      0      0      0      0      0\n",
      "      0      0      0      0      0]\n",
      "(255,)\n"
     ]
    }
   ],
   "source": [
    "img1 = helpers.readImageGray(\"./ACDB/ACdata_base/1/0001.jpg\")\n",
    "\n",
    "img2 = helpers.readImageGray(\"./ACDB/ACdata_base/9/1496.jpg\")\n",
    "\n",
    "\n",
    "print(extract_features.getLPQ(img1))\n",
    "print(extract_features.getLPQ(img2))\n",
    "img1 = preprocessing.binarization(img1,helpers.isTextBlack(img1))\n",
    "img2 = preprocessing.binarization(img2,helpers.isTextBlack(img2))\n",
    "# helpers.show_images([(img1==False),img2])\n",
    "# print((img1==False))\n",
    "# img1 = preprocessing.skeletonization(img1)\n",
    "# img2 = preprocessing.skeletonization(img2)\n",
    "# img1 = resize(img1, (50,50),\n",
    "#                        anti_aliasing=True)\n",
    "# img2 = resize(img2, (50,50),\n",
    "#                        anti_aliasing=True)\n",
    "# img1 = preprocessing.binarization(img1)\n",
    "# img2 = preprocessing.binarization(img2)\n",
    "# helpers.show_images([img1,img2])\n"
   ]
  }
 ],
 "metadata": {
  "kernelspec": {
   "display_name": "Python 3",
   "language": "python",
   "name": "python3"
  },
  "language_info": {
   "codemirror_mode": {
    "name": "ipython",
    "version": 3
   },
   "file_extension": ".py",
   "mimetype": "text/x-python",
   "name": "python",
   "nbconvert_exporter": "python",
   "pygments_lexer": "ipython3",
   "version": "3.7.0"
  },
  "orig_nbformat": 2
 },
 "nbformat": 4,
 "nbformat_minor": 2
}
