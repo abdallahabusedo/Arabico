{
 "cells": [
  {
   "cell_type": "code",
   "execution_count": 2,
   "metadata": {},
   "outputs": [],
   "source": [
    "# imports\n",
    "from skimage.filters import threshold_otsu, rank\n",
    "from skimage.util import img_as_ubyte\n",
    "from skimage.io import imread,imsave\n",
    "import cv2\n",
    "import matplotlib.pyplot as plt\n",
    "import numpy as np\n",
    "import skimage as sk\n",
    "from skimage.morphology import binary_dilation,binary_erosion\n",
    "from skimage.transform import rescale, resize, downscale_local_mean\n",
    "from skimage import filters\n",
    "import math\n",
    "import helpers\n",
    "import preprocessing\n",
    "import extract_features\n",
    "%matplotlib inline"
   ]
  },
  {
   "cell_type": "code",
   "execution_count": 3,
   "metadata": {},
   "outputs": [],
   "source": [
    "\n",
    "\n",
    "# sy = filters.sobel_h(img)+0.0000000000000000000000000000000000001\n",
    "# sx = filters.sobel_v(img)+0.0000000000000000000000000000000000001\n",
    "# print(sy,sx)\n",
    "# z = np.rad2deg(np.arctan(sy/sx))\n",
    "# z = z.astype(int)\n",
    "# hist = sk.exposure.histogram(z)\n",
    "# arr = [] \n",
    "# for i in range(len(hist[0])):\n",
    "#     arr.append((hist[0][i]/(img.shape[0]*img.shape[1]),hist[1][i]))\n",
    "# #arr = np.sort(arr)\n",
    "# arr.sort()\n",
    "# #arr = np.flip(arr)\n",
    "# arr = arr[::-1]\n",
    "# #print(arr)\n",
    "# for i in range(5):\n",
    "#     print(z.shape)\n",
    "\n",
    "# fd = sk.feature.hog(img, orientations=9, pixels_per_cell=(16, 16),cells_per_block=(3, 3),transform_sqrt=True,feature_vector=True)\n",
    "# fd = np.reshape(fd,(int(fd.shape[0]/9),9))\n",
    "# print(fd.shape)\n",
    "#fd = np.reshape(fd,img.shape)\n",
    "# for i in range(img.shape[0]):\n",
    "#     for j in range(img.shape[1]):\n",
    "#         if img[i][j] ==0:\n",
    "#             print(\"fd \",fd[i][j])\n",
    "# print(fd.shape)\n",
    "# x = np.mean(fd,axis=0)\n",
    "# print(x)\n",
    "# hog = cv2.HOGDescriptor()\n",
    "# c_img =  np.uint8(img)\n",
    "# h = hog.compute(c_img)\n",
    "# h = np.reshape(h,(int(h.shape[0]/9),9))\n",
    "# print(h.shape)\n",
    "# mean = np.mean(h,axis=0)\n",
    "# var = np.var(h,axis=0)\n",
    "# for i in range(9):\n",
    "#     print(\"mean \",mean[i],\"var \",var[i])\n",
    "\n"
   ]
  },
  {
   "cell_type": "code",
   "execution_count": 4,
   "metadata": {},
   "outputs": [
    {
     "data": {
      "image/png": "[encoded data removed]",
      "text/plain": [
       "<Figure size 864x576 with 2 Axes>"
      ]
     },
     "metadata": {
      "needs_background": "light"
     },
     "output_type": "display_data"
    }
   ],
   "source": [
    "img1 = helpers.readImageGray(\"./ACDB/ACdata_base/1/0001.jpg\")\n",
    "\n",
    "img2 = helpers.readImageGray(\"./ACDB/ACdata_base/9/1496.jpg\")\n",
    "\n",
    "\n",
    "img1 = preprocessing.binarization(img1,helpers.isTextBlack(img1))\n",
    "img2 = preprocessing.binarization(img2,helpers.isTextBlack(img2))\n",
    "# helpers.show_images([(img1==False),img2])\n",
    "# print((img1==False))\n",
    "img1 = preprocessing.skeletonization(img1)\n",
    "img2 = preprocessing.skeletonization(img2)\n",
    "img1 = resize(img1, (50,50),\n",
    "                       anti_aliasing=True)\n",
    "img2 = resize(img2, (50,50),\n",
    "                       anti_aliasing=True)\n",
    "img1 = preprocessing.binarization(img1)\n",
    "img2 = preprocessing.binarization(img2)\n",
    "helpers.show_images([img1,img2])\n"
   ]
  },
  {
   "cell_type": "code",
   "execution_count": 5,
   "metadata": {},
   "outputs": [
    {
     "name": "stdout",
     "output_type": "stream",
     "text": [
      "[(35, 74), (61, 74), (65, 74), (99, 74), (107, 74), (115, 74), (135, 74), (162, 74), (175, 74), (185, 74), (197, 74), (212, 74), (222, 74), (240, 74), (280, 74), (297, 74), (314, 74), (324, 74), (348, 74), (356, 74), (371, 74), (389, 74), (398, 74), (411, 74), (432, 74), (446, 74), (462, 74), (481, 74), (491, 74), (499, 74), (505, 74), (526, 74), (541, 74), (554, 74), (561, 74), (571, 74), (591, 74), (608, 74), (624, 74), (634, 74), (658, 74)]\n"
     ]
    },
    {
     "data": {
      "text/plain": [
       "<matplotlib.image.AxesImage at 0x1ff3d4cc640>"
      ]
     },
     "execution_count": 5,
     "metadata": {},
     "output_type": "execute_result"
    },
    {
     "data": {
      "image/png": "[encoded data removed]",
      "text/plain": [
       "<Figure size 432x288 with 1 Axes>"
      ]
     },
     "metadata": {
      "needs_background": "light"
     },
     "output_type": "display_data"
    }
   ],
   "source": [
    "from skimage.filters import threshold_otsu, rank\n",
    "from skimage.util import img_as_ubyte\n",
    "from skimage.io import imread, imsave\n",
    "import cv2\n",
    "import matplotlib.pyplot as plt\n",
    "import numpy as np\n",
    "import skimage as sk\n",
    "from skimage.morphology import binary_dilation, binary_erosion\n",
    "from skimage.transform import rescale, resize, downscale_local_mean\n",
    "from skimage import filters\n",
    "from skimage.segmentation import flood, flood_fill\n",
    "from skimage.color import rgb2gray, gray2rgb\n",
    "from skimage import measure\n",
    "from skimage.feature import match_template\n",
    "import math\n",
    "import os\n",
    "import helpers\n",
    "import preprocessing\n",
    "from scipy.signal import convolve2d\n",
    "from scipy import ndimage\n",
    "img1 = helpers.readImageGray(\"./ACDB/ACdata_base/1/0001.jpg\")\n",
    "\n",
    "_img_gray = helpers.readImageGray(\"./ACDB/ACdata_base/8/1307.jpg\")\n",
    "\n",
    "img = _img_gray.copy()\n",
    "binary = preprocessing.binarization(img)\n",
    "horizontal_hist = np.sum(binary, axis=1)\n",
    "img_with_Diacritics = np.copy(binary)\n",
    "img_with_Diacritics = img_with_Diacritics.astype(np.uint8)\n",
    "basline = np.argmin(horizontal_hist)\n",
    "seed = []\n",
    "\n",
    "temp = img_with_Diacritics[basline, 0]\n",
    "cp = gray2rgb(img_with_Diacritics)\n",
    "for i in range(1, len(img_with_Diacritics[basline])):\n",
    "        if temp == 1 and img_with_Diacritics[basline, i] == 0:\n",
    "            seed.append((i, basline))\n",
    "        temp = img_with_Diacritics[basline, i]\n",
    "print(seed)\n",
    "for i in seed:\n",
    "        cv2.floodFill(img_with_Diacritics, None, i, 255)\n",
    "        #flood_fill(image=img_with_Diacritics, seed_point=i, new_value=1)\n",
    "image_without_diacritic = (binary-img_with_Diacritics)\n",
    "\n",
    "# struct1 = ndimage.generate_binary_structure(2, 2)\n",
    "# img_with_Diacritics = ndimage.binary_erosion(\n",
    "#     img_with_Diacritics, structure=struct1).astype(img_with_Diacritics.dtype)\n",
    "# img_with_Diacritics = ndimage.binary_dilation(\n",
    "#     img_with_Diacritics, structure=struct1).astype(img_with_Diacritics.dtype)\n",
    "# Template1 = imread(\"./1.png\", as_gray=True)\n",
    "# Template2 = imread(\"./2.png\", as_gray=True)\n",
    "# BW1 = preprocessing.binarization(Template1)\n",
    "# BW2 = preprocessing.binarization(Template2)\n",
    "# BW1 = BW1.astype(np.uint8)\n",
    "# BW2 = BW2.astype(np.uint8)\n",
    "# contours1 = measure.find_contours(BW1)\n",
    "# contours2 = measure.find_contours(BW2)\n",
    "# Temp1Copy = gray2rgb(BW1)\n",
    "# Temp2Copy = gray2rgb(BW2)\n",
    "# SC1 = sorted(contours1,  reverse=True)\n",
    "# SC2 = sorted(contours2,  reverse=True)\n",
    "\n",
    "# temp1 = SC1[0][1]\n",
    "# temp2 = SC2[0][1]\n",
    "# fig, ax = plt.subplots()\n",
    "# for n, contour in enumerate(SC2):\n",
    "#     ax.plot(SC2[n][:, 1], SC2[n][:, 0], linewidth=2)\n",
    "# plt.show()\n",
    "# hight1, width1 = Template1.shape\n",
    "# hight2, width2 = Template2.shape\n",
    "# contours3 = measure.find_contours(img_with_Diacritics)\n",
    "# fig, ax = plt.subplots()\n",
    "# for n, contour in enumerate(contours3):\n",
    "#     ax.plot(contours3[n][:, 1], contours3[n][:, 0], linewidth=2)\n",
    "# plt.show()\n",
    "# #SC3 = sorted(contours3, reverse=True)\n",
    "# img_with_Diacritics = gray2rgb(img_with_Diacritics)\n",
    "# number_of_first_diacritic = 1\n",
    "# number_of_second_diacritic = 1\n",
    "# for c in contours3:\n",
    "#     # Xmin = np.min(c[:, 0])\n",
    "#     # Xmax = np.max(c[:, 0])\n",
    "#     # Ymin = np.min(c[:, 1])\n",
    "#     # Ymax = np.max(c[:, 1])\n",
    "#     # cropted = img_with_Diacritics[int(Ymin):int(\n",
    "#     #     Ymin+Ymax), int(Xmin):int(Xmin+Xmax)]\n",
    "#     # plt.imshow(cropted)\n",
    "#     # plt.show()\n",
    "#     result1 = match_template(c, temp1)\n",
    "#     result2 = match_template(c, temp2)\n",
    "#     print(result1)\n",
    "#     print(result2)\n",
    "plt.imshow(image_without_diacritic*-1)\n"
   ]
  },
  {
   "cell_type": "code",
   "execution_count": 6,
   "metadata": {},
   "outputs": [
    {
     "name": "stdout",
     "output_type": "stream",
     "text": [
      "                       0\n",
      "0      26.97760750853303\n",
      "1      40.01490828145596\n",
      "2     30.839782929759682\n",
      "3      33.77996308796918\n",
      "4      28.79357015842532\n",
      "...                  ...\n",
      "1959                0.0,\n",
      "1960                0.0,\n",
      "1961                0.0,\n",
      "1962                0.0,\n",
      "1963                0.0,\n",
      "\n",
      "[1964 rows x 1 columns]\n"
     ]
    }
   ],
   "source": [
    "import pandas as pd\n",
    "\n",
    "def readFromCSV(filename):\n",
    "    file = open(filename, \"r\")\n",
    "    features = []\n",
    "    label = []\n",
    "    for row in file:\n",
    "        featrueSlice = slice(0, len(row)-3)\n",
    "        features.append(row[featrueSlice])\n",
    "        lab = row.replace(str(row[featrueSlice]), \"\")\n",
    "        lab = lab.replace(\",\", \"\")\n",
    "        label.append(lab)\n",
    "    return features, label\n",
    "\n",
    "\n",
    "features, label = readFromCSV(\"wor.csv\")\n",
    "features = np.array(features)\n",
    "features = pd.DataFrame(features)\n",
    "\n",
    "print(features)\n"
   ]
  },
  {
   "cell_type": "code",
   "execution_count": 18,
   "metadata": {},
   "outputs": [
    {
     "name": "stdout",
     "output_type": "stream",
     "text": [
      "[1.]\n"
     ]
    }
   ],
   "source": [
    "\n",
    "def getHVSL(_img_gray):\n",
    "    # bw = preprocessing.binarization(_img_gray)*255\n",
    "    _, bw = cv2.threshold(_img_gray, 150, 255, cv2.THRESH_BINARY)\n",
    "    edges = cv2.Canny(bw, 50,  150, apertureSize=3)\n",
    "    horizontal = np.copy(edges)\n",
    "    vertical = np.copy(edges)\n",
    "    # Specify size on horizontal axis\n",
    "    cols = horizontal.shape[1]\n",
    "    horizontal_size = cols // 30\n",
    "    horizontalStructure = cv2.getStructuringElement(\n",
    "        cv2.MORPH_RECT, (horizontal_size, 1))\n",
    "    horizontal = cv2.erode(horizontal, horizontalStructure)\n",
    "    horizontal = cv2.dilate(horizontal, horizontalStructure)\n",
    "    rows = vertical.shape[0]\n",
    "    verticalsize = rows // 30\n",
    "    verticalStructure = cv2.getStructuringElement(\n",
    "        cv2.MORPH_RECT, (1, verticalsize))\n",
    "    vertical = cv2.erode(vertical, verticalStructure)\n",
    "    vertical = cv2.dilate(vertical, verticalStructure)\n",
    "    vNumber = []\n",
    "    hNumber = []\n",
    "    num_labels, labels = cv2.connectedComponents(_img_gray)\n",
    "    vNumber.append(num_labels)\n",
    "    num_labels, labels = cv2.connectedComponents(_img_gray)\n",
    "    hNumber.append(num_labels)\n",
    "    feature = []\n",
    "    for i in range(0, len(vNumber)):\n",
    "        feature.append(vNumber[i]/hNumber[i])\n",
    "    feature = np.array(feature)\n",
    "    return feature\n",
    "\n",
    "f = getHVSL(_img_gray)\n",
    "\n",
    "print(f)\n"
   ]
  },
  {
   "cell_type": "code",
   "execution_count": null,
   "metadata": {},
   "outputs": [],
   "source": []
  }
 ],
 "metadata": {
  "kernelspec": {
   "display_name": "Python 3",
   "language": "python",
   "name": "python3"
  },
  "language_info": {
   "codemirror_mode": {
    "name": "ipython",
    "version": 3
   },
   "file_extension": ".py",
   "mimetype": "text/x-python",
   "name": "python",
   "nbconvert_exporter": "python",
   "pygments_lexer": "ipython3",
   "version": "3.8.8"
  },
  "orig_nbformat": 2
 },
 "nbformat": 4,
 "nbformat_minor": 2
}
