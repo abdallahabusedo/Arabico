{
 "cells": [
  {
   "cell_type": "code",
   "execution_count": 51,
   "metadata": {},
   "outputs": [],
   "source": [
    "# imports\n",
    "from skimage.filters import threshold_otsu, rank\n",
    "from skimage.util import img_as_ubyte\n",
    "from skimage.io import imread,imsave\n",
    "import cv2\n",
    "import matplotlib.pyplot as plt\n",
    "import numpy as np\n",
    "import skimage as sk\n",
    "from skimage.morphology import binary_dilation,binary_erosion\n",
    "from skimage.transform import rescale, resize, downscale_local_mean\n",
    "from skimage import filters\n",
    "import math\n",
    "import helpers\n",
    "import preprocessing\n",
    "import extract_features\n",
    "%matplotlib inline"
   ]
  },
  {
   "cell_type": "code",
   "execution_count": 54,
   "metadata": {},
   "outputs": [
    {
     "ename": "AttributeError",
     "evalue": "module 'helpers' has no attribute 'isTextBlack'",
     "output_type": "error",
     "traceback": [
      "\u001b[1;31m---------------------------------------------------------------------------\u001b[0m",
      "\u001b[1;31mAttributeError\u001b[0m                            Traceback (most recent call last)",
      "\u001b[1;32m~\\AppData\\Local\\Temp/ipykernel_17588/2608806651.py\u001b[0m in \u001b[0;36m<module>\u001b[1;34m\u001b[0m\n\u001b[0;32m      6\u001b[0m \u001b[1;31m# t = filters.threshold_otsu(img)\u001b[0m\u001b[1;33m\u001b[0m\u001b[1;33m\u001b[0m\u001b[0m\n\u001b[0;32m      7\u001b[0m \u001b[1;31m# print(t)\u001b[0m\u001b[1;33m\u001b[0m\u001b[1;33m\u001b[0m\u001b[0m\n\u001b[1;32m----> 8\u001b[1;33m \u001b[0mprint\u001b[0m\u001b[1;33m(\u001b[0m\u001b[0mhelpers\u001b[0m\u001b[1;33m.\u001b[0m\u001b[0misTextBlack\u001b[0m\u001b[1;33m)\u001b[0m\u001b[1;33m\u001b[0m\u001b[0m\n\u001b[0m\u001b[0;32m      9\u001b[0m \u001b[0mprint\u001b[0m\u001b[1;33m(\u001b[0m\u001b[1;34m\"imh1\"\u001b[0m\u001b[1;33m)\u001b[0m\u001b[1;33m\u001b[0m\u001b[0m\n\u001b[0;32m     10\u001b[0m \u001b[0mhelpers\u001b[0m\u001b[1;33m.\u001b[0m\u001b[0misTextBlack\u001b[0m\u001b[1;33m(\u001b[0m\u001b[0mimg1\u001b[0m\u001b[1;33m)\u001b[0m\u001b[1;33m\u001b[0m\u001b[0m\n",
      "\u001b[1;31mAttributeError\u001b[0m: module 'helpers' has no attribute 'isTextBlack'"
     ]
    }
   ],
   "source": [
    "\n",
    "\n",
    "# sy = filters.sobel_h(img)+0.0000000000000000000000000000000000001\n",
    "# sx = filters.sobel_v(img)+0.0000000000000000000000000000000000001\n",
    "# print(sy,sx)\n",
    "# z = np.rad2deg(np.arctan(sy/sx))\n",
    "# z = z.astype(int)\n",
    "# hist = sk.exposure.histogram(z)\n",
    "# arr = [] \n",
    "# for i in range(len(hist[0])):\n",
    "#     arr.append((hist[0][i]/(img.shape[0]*img.shape[1]),hist[1][i]))\n",
    "# #arr = np.sort(arr)\n",
    "# arr.sort()\n",
    "# #arr = np.flip(arr)\n",
    "# arr = arr[::-1]\n",
    "# #print(arr)\n",
    "# for i in range(5):\n",
    "#     print(z.shape)\n",
    "\n",
    "# fd = sk.feature.hog(img, orientations=9, pixels_per_cell=(16, 16),cells_per_block=(3, 3),transform_sqrt=True,feature_vector=True)\n",
    "# fd = np.reshape(fd,(int(fd.shape[0]/9),9))\n",
    "# print(fd.shape)\n",
    "#fd = np.reshape(fd,img.shape)\n",
    "# for i in range(img.shape[0]):\n",
    "#     for j in range(img.shape[1]):\n",
    "#         if img[i][j] ==0:\n",
    "#             print(\"fd \",fd[i][j])\n",
    "# print(fd.shape)\n",
    "# x = np.mean(fd,axis=0)\n",
    "# print(x)\n",
    "# hog = cv2.HOGDescriptor()\n",
    "# c_img =  np.uint8(img)\n",
    "# h = hog.compute(c_img)\n",
    "# h = np.reshape(h,(int(h.shape[0]/9),9))\n",
    "# print(h.shape)\n",
    "# mean = np.mean(h,axis=0)\n",
    "# var = np.var(h,axis=0)\n",
    "# for i in range(9):\n",
    "#     print(\"mean \",mean[i],\"var \",var[i])\n",
    "\n"
   ]
  },
  {
   "cell_type": "code",
   "execution_count": 55,
   "metadata": {},
   "outputs": [
    {
     "ename": "AttributeError",
     "evalue": "module 'helpers' has no attribute 'isTextBlack'",
     "output_type": "error",
     "traceback": [
      "\u001b[1;31m---------------------------------------------------------------------------\u001b[0m",
      "\u001b[1;31mAttributeError\u001b[0m                            Traceback (most recent call last)",
      "\u001b[1;32m~\\AppData\\Local\\Temp/ipykernel_17588/2683128794.py\u001b[0m in \u001b[0;36m<module>\u001b[1;34m\u001b[0m\n\u001b[0;32m      6\u001b[0m \u001b[1;31m# t = filters.threshold_otsu(img)\u001b[0m\u001b[1;33m\u001b[0m\u001b[1;33m\u001b[0m\u001b[0m\n\u001b[0;32m      7\u001b[0m \u001b[1;31m# print(t)\u001b[0m\u001b[1;33m\u001b[0m\u001b[1;33m\u001b[0m\u001b[0m\n\u001b[1;32m----> 8\u001b[1;33m \u001b[0mprint\u001b[0m\u001b[1;33m(\u001b[0m\u001b[0mhelpers\u001b[0m\u001b[1;33m.\u001b[0m\u001b[0misTextBlack\u001b[0m\u001b[1;33m)\u001b[0m\u001b[1;33m\u001b[0m\u001b[0m\n\u001b[0m\u001b[0;32m      9\u001b[0m \u001b[0mprint\u001b[0m\u001b[1;33m(\u001b[0m\u001b[1;34m\"imh1\"\u001b[0m\u001b[1;33m)\u001b[0m\u001b[1;33m\u001b[0m\u001b[0m\n\u001b[0;32m     10\u001b[0m \u001b[0mhelpers\u001b[0m\u001b[1;33m.\u001b[0m\u001b[0misTextBlack\u001b[0m\u001b[1;33m(\u001b[0m\u001b[0mimg1\u001b[0m\u001b[1;33m)\u001b[0m\u001b[1;33m\u001b[0m\u001b[0m\n",
      "\u001b[1;31mAttributeError\u001b[0m: module 'helpers' has no attribute 'isTextBlack'"
     ]
    }
   ],
   "source": [
    "img1 = helpers.readImageGray(\"./ACDB/ACdata_base/1/0001.jpg\")\n",
    "\n",
    "img2 = helpers.readImageGray(\"./ACDB/ACdata_base/9/1496.jpg\")\n",
    "\n",
    "print(helpers.isTextBlack)\n",
    "print(\"imh1\")\n",
    "helpers.isTextBlack(img1)\n",
    "print(\"img2\")\n",
    "helpers.isTextBlack(img2)\n",
    "helpers.show_images([img1,img2])\n"
   ]
  }
 ],
 "metadata": {
  "kernelspec": {
   "display_name": "Python 3",
   "language": "python",
   "name": "python3"
  },
  "language_info": {
   "codemirror_mode": {
    "name": "ipython",
    "version": 3
   },
   "file_extension": ".py",
   "mimetype": "text/x-python",
   "name": "python",
   "nbconvert_exporter": "python",
   "pygments_lexer": "ipython3",
   "version": "3.7.0"
  },
  "orig_nbformat": 2
 },
 "nbformat": 4,
 "nbformat_minor": 2
}
