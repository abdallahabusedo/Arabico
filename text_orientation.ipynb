{
 "cells": [
  {
   "cell_type": "code",
   "execution_count": 12,
   "metadata": {},
   "outputs": [],
   "source": [
    "# imports\n",
    "from skimage.filters import threshold_otsu, rank\n",
    "from skimage.util import img_as_ubyte\n",
    "from skimage.io import imread,imsave\n",
    "import cv2\n",
    "import matplotlib.pyplot as plt\n",
    "import numpy as np\n",
    "import skimage as sk\n",
    "from skimage.morphology import binary_dilation,binary_erosion\n",
    "from skimage.transform import rescale, resize, downscale_local_mean\n",
    "from skimage import filters\n",
    "import math\n",
    "import helpers\n",
    "import preprocessing\n",
    "import extract_features\n",
    "%matplotlib inline"
   ]
  },
  {
   "cell_type": "code",
   "execution_count": 20,
   "metadata": {},
   "outputs": [
    {
     "name": "stdout",
     "output_type": "stream",
     "text": [
      "[0. 0. 0. 0. 0. 0. 0. 0. 0.]\n"
     ]
    }
   ],
   "source": [
    "\n",
    "img = helpers.readImageGray(\"./ACDB/ACdata_base/1/0001.jpg\")\n",
    "img = preprocessing.binarization(img)\n",
    "img = preprocessing.skeletonization(img)\n",
    "\n",
    "\n",
    "# sy = filters.sobel_h(img)+0.0000000000000000000000000000000000001\n",
    "# sx = filters.sobel_v(img)+0.0000000000000000000000000000000000001\n",
    "#print(sy,sx)\n",
    "# z = np.rad2deg(np.arctan(sy/sx))\n",
    "# z = z.astype(int)\n",
    "# hist = sk.exposure.histogram(z)\n",
    "# arr = [] \n",
    "# for i in range(len(hist[0])):\n",
    "#     arr.append((hist[0][i]/(img.shape[0]*img.shape[1]),hist[1][i]))\n",
    "# #arr = np.sort(arr)\n",
    "# arr.sort()\n",
    "# #arr = np.flip(arr)\n",
    "# arr = arr[::-1]\n",
    "# for i in range(5):\n",
    "#     print(arr[i])\n",
    "\n",
    "fd = sk.feature.hog(img, orientations=9, pixels_per_cell=(16, 16),cells_per_block=(1, 1),transform_sqrt=True,feature_vector=True)\n",
    "fd = np.reshape(fd,(int(fd.shape[0]/9),9))\n",
    "#fd = np.reshape(fd,img.shape)\n",
    "# for i in range(img.shape[0]):\n",
    "#     for j in range(img.shape[1]):\n",
    "#         if img[i][j] ==0:\n",
    "#             print(\"fd \",fd[i][j])\n",
    "# print(fd.shape)\n",
    "\n",
    "# hog = cv2.HOGDescriptor()\n",
    "# c_img =  np.uint8(img)\n",
    "# h = hog.compute(c_img)\n",
    "# h = np.reshape(h,(int(h.shape[0]/9),9))\n",
    "# mean = np.mean(h,axis=0)\n",
    "# var = np.var(h,axis=0)\n",
    "# for i in range(9):\n",
    "#     print(\"mean \",mean[i],\"var \",var[i])\n",
    "\n"
   ]
  }
 ],
 "metadata": {
  "kernelspec": {
   "display_name": "Python 3",
   "language": "python",
   "name": "python3"
  },
  "language_info": {
   "codemirror_mode": {
    "name": "ipython",
    "version": 3
   },
   "file_extension": ".py",
   "mimetype": "text/x-python",
   "name": "python",
   "nbconvert_exporter": "python",
   "pygments_lexer": "ipython3",
   "version": "3.7.0"
  },
  "orig_nbformat": 2
 },
 "nbformat": 4,
 "nbformat_minor": 2
}
