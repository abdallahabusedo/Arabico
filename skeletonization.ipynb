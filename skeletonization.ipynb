{
 "metadata": {
  "language_info": {
   "codemirror_mode": {
    "name": "ipython",
    "version": 3
   },
   "file_extension": ".py",
   "mimetype": "text/x-python",
   "name": "python",
   "nbconvert_exporter": "python",
   "pygments_lexer": "ipython3",
   "version": "3.8.5-final"
  },
  "orig_nbformat": 2,
  "kernelspec": {
   "name": "python3",
   "display_name": "Python 3",
   "language": "python"
  }
 },
 "nbformat": 4,
 "nbformat_minor": 2,
 "cells": [
  {
   "source": [
    "# imports\n",
    "from skimage.filters import threshold_otsu, rank\n",
    "from skimage.util import img_as_ubyte\n",
    "from skimage.io import imread,imsave\n",
    "import cv2 as cv\n",
    "import matplotlib.pyplot as plt\n",
    "from matplotlib import cm\n",
    "import numpy as np\n",
    "import skimage as sk\n",
    "from skimage.morphology import *\n",
    "from helpers import *\n",
    "from preprocessing import *\n",
    "from extract_features import *\n",
    "%matplotlib inline"
   ],
   "cell_type": "code",
   "metadata": {},
   "execution_count": 49,
   "outputs": []
  },
  {
   "cell_type": "code",
   "execution_count": 50,
   "metadata": {
    "tags": []
   },
   "outputs": [
    {
     "output_type": "stream",
     "name": "stdout",
     "text": [
      "running LVL(0.1) on font 1___diwani\t\tfv:[ratio,var]\n",
      "(mean,var) for text height=(115.08947368421053, 1139.4604155124655)\n",
      "(mean,var) for longest line=(341.77894736842103, 12608.098504155127)\n",
      "(mean,var) for ratio=(75.20526315789473, 703.7947091412744)\n",
      "(mean,var) for var among lines=(0.6540151985123085, 0.016113602227930356)\n",
      "....................................................\n",
      "running LVL(0.1) on font 2___naskh\t\tfv:[ratio,var]\n",
      "(mean,var) for text height=(93.27894736842106, 39.41166204986152)\n",
      "(mean,var) for longest line=(182.92105263157896, 1603.4306094182823)\n",
      "(mean,var) for ratio=(53.5, 75.48157894736842)\n",
      "(mean,var) for var among lines=(0.5734719716813118, 0.006948207893016499)\n",
      "....................................................\n",
      "running LVL(0.1) on font 3___parsi\t\tfv:[ratio,var]\n",
      "(mean,var) for text height=(105.45555555555555, 1463.4369135802476)\n",
      "(mean,var) for longest line=(269.18333333333334, 8495.149722222224)\n",
      "(mean,var) for ratio=(68.08333333333333, 957.1541666666675)\n",
      "(mean,var) for var among lines=(0.6366004225759344, 0.013091625552086041)\n",
      "....................................................\n",
      "running LVL(0.1) on font 4___rekaa\t\tfv:[ratio,var]\n",
      "(mean,var) for text height=(103.13513513513513, 1716.970927684442)\n",
      "(mean,var) for longest line=(302.22162162162164, 16809.11304601898)\n",
      "(mean,var) for ratio=(72.77837837837838, 926.3238568298024)\n",
      "(mean,var) for var among lines=(0.7041925393500726, 0.005189385414214404)\n",
      "....................................................\n",
      "running LVL(0.1) on font 5___thuluth\t\tfv:[ratio,var]\n",
      "(mean,var) for text height=(157.51282051282053, 36250.19855358316)\n",
      "(mean,var) for longest line=(330.9025641025641, 57183.56486522028)\n",
      "(mean,var) for ratio=(115.84615384615384, 12470.23274161734)\n",
      "(mean,var) for var among lines=(0.7638817807112791, 0.012862397496355132)\n",
      "....................................................\n",
      "running LVL(0.1) on font 6___maghribi\t\tfv:[ratio,var]\n",
      "(mean,var) for text height=(106.2388888888889, 1533.5040432098772)\n",
      "(mean,var) for longest line=(330.4166666666667, 26621.24305555557)\n",
      "(mean,var) for ratio=(76.31111111111112, 871.8476543209871)\n",
      "(mean,var) for var among lines=(0.7114200421449425, 0.007849532977448719)\n",
      "....................................................\n",
      "running LVL(0.1) on font 7___kufi\t\tfv:[ratio,var]\n",
      "(mean,var) for text height=(101.94054054054054, 1764.6721402483558)\n",
      "(mean,var) for longest line=(313.0810810810811, 16389.912344777207)\n",
      "(mean,var) for ratio=(79.76756756756757, 1515.6054346238143)\n",
      "(mean,var) for var among lines=(0.7684380160386309, 0.005100697360490465)\n",
      "....................................................\n",
      "running LVL(0.1) on font 8___mohakek\t\tfv:[ratio,var]\n",
      "(mean,var) for text height=(81.03157894736842, 679.8726869806096)\n",
      "(mean,var) for longest line=(185.8421052631579, 5722.143490304709)\n",
      "(mean,var) for ratio=(52.31578947368421, 339.87922437673154)\n",
      "(mean,var) for var among lines=(0.6516176199969224, 0.016507720344559686)\n",
      "....................................................\n",
      "running LVL(0.1) on font 9___Squar-kufic\t\tfv:[ratio,var]\n",
      "(mean,var) for text height=(203.9, 23814.826842105256)\n",
      "(mean,var) for longest line=(221.96842105263158, 15907.820055401664)\n",
      "(mean,var) for ratio=(162.18947368421053, 16854.827257617726)\n",
      "(mean,var) for var among lines=(0.8064336311378414, 0.016413344191319696)\n",
      "....................................................\n"
     ]
    }
   ],
   "source": [
    "# read image\n",
    "kufi_img = imread(\"./ACDB/ACdata_base/7/1128.jpg\", as_gray=True)\n",
    "skufi_img = imread(\"./ACDB/ACdata_base/9/1550.jpg\", as_gray=True)\n",
    "other_img = imread(\"./ACDB/ACdata_base/5/781.jpg\", as_gray=True)\n",
    "\n",
    "img = get_skeleton(kufi_img)\n",
    "img2 = get_skeleton(skufi_img) \n",
    "img3 = get_skeleton(other_img) \n",
    "# show_images([kufi_img,img])\n",
    "# show_images([skufi_img,img2])\n",
    "# show_images([other_img,img3])\n",
    "\n",
    "names = open(\"./ACDB/ACdata_base/names.txt\",\"r\")\n",
    "for i in range(1,10):\n",
    "    print('running LVL(0.1) on font {}\\t\\tfv:[ratio,var]'.format(names.readline()[:-1]))\n",
    "    imgsPaths = getImgsPaths(\"./ACDB/ACdata_base/\"+str(i))\n",
    "    imgs = []\n",
    "    for i in range(len(imgsPaths)):\n",
    "        img = readImageGray(imgsPaths[i])\n",
    "        skeleton = get_skeleton(img)\n",
    "        # fv = getLVL(skeleton)\n",
    "        # print('img={}\\tfv={}'.format(imgsPaths[i],fv[3:]))\n",
    "        imgs.append(skeleton)\n",
    "    mean,var = getDataAboutFeatures(imgs,getLVL)\n",
    "    print('(mean,var) for text height={}'.format((mean[0],var[0])))\n",
    "    # print('(mean,var) for #lines={}'.format((mean[0],var[0])))\n",
    "    print('(mean,var) for longest line={}'.format((mean[1],var[1])))\n",
    "    print('(mean,var) for ratio={}'.format((mean[2],var[2])))\n",
    "    print('(mean,var) for var among lines={}'.format((mean[3],var[3])))\n",
    "    print('....................................................')\n",
    "\n",
    "    \n",
    "    \n",
    "    "
   ]
  },
  {
   "cell_type": "code",
   "execution_count": null,
   "metadata": {},
   "outputs": [],
   "source": []
  },
  {
   "cell_type": "code",
   "execution_count": null,
   "metadata": {},
   "outputs": [],
   "source": []
  }
 ]
}