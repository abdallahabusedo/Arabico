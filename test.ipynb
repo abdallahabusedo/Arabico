{
 "cells": [
  {
   "cell_type": "code",
   "execution_count": 68,
   "metadata": {},
   "outputs": [],
   "source": [
    "import cv2 as cv2\n",
    "import numpy as np\n",
    "import math\n",
    "import glob\n",
    "import matplotlib.pyplot as plt\n",
    "from mpl_toolkits.mplot3d import Axes3D\n",
    "import os\n",
    "\n",
    "%matplotlib inline\n"
   ]
  },
  {
   "cell_type": "code",
   "execution_count": 69,
   "metadata": {},
   "outputs": [],
   "source": [
    "Images = []\n",
    "def readImagesFromFile(path):\n",
    "    for filename in glob.glob(path):\n",
    "        img = cv2.imread(filename)  # cv2.imread reads images in RGB format\n",
    "        Images.append(img)\n"
   ]
  },
  {
   "cell_type": "code",
   "execution_count": 70,
   "metadata": {},
   "outputs": [],
   "source": [
    "# def HV(bw):\n",
    "#     # _,bw = cv2.threshold(gray, 150, 255, cv2.THRESH_BINARY)\n",
    "#     edges = cv2.Canny(bw, 50, 150, apertureSize=3)\n",
    "#     horizontal = np.copy(edges)\n",
    "#     vertical = np.copy(edges)\n",
    "#     # Specify size on horizontal axis\n",
    "#     cols = horizontal.shape[1]\n",
    "#     horizontal_size = cols // 30\n",
    "#     # print(horizontal_size)\n",
    "#     # Create structure element for extracting horizontal lines through morphology operations\n",
    "#     horizontalStructure = cv2.getStructuringElement(\n",
    "#         cv2.MORPH_RECT, (horizontal_size, 1))\n",
    "#     # Apply morphology operations\n",
    "#     horizontal = cv2.erode(horizontal, horizontalStructure)\n",
    "#     horizontal = cv2.dilate(horizontal, horizontalStructure)\n",
    "#     # Show extracted horizontal lines\n",
    "#     # Specify size on vertical axis\n",
    "#     rows = vertical.shape[0]\n",
    "#     verticalsize = rows // 30\n",
    "#     # Create structure element for extracting vertical lines through morphology operations\n",
    "#     verticalStructure = cv2.getStructuringElement(\n",
    "#         cv2.MORPH_RECT, (1, verticalsize))\n",
    "#     # Apply morphology operations\n",
    "#     vertical = cv2.erode(vertical, verticalStructure)\n",
    "#     vertical = cv2.dilate(vertical, verticalStructure)\n",
    "\n",
    "#     return horizontal,vertical\n"
   ]
  },
  {
   "cell_type": "code",
   "execution_count": 71,
   "metadata": {},
   "outputs": [],
   "source": [
    "# f = open(\"test.txt\", \"a\")\n",
    "\n",
    "# pathes = [\n",
    "#     \"./ACDB/ACdata_base/1/*\",\n",
    "#     \"./ACDB/ACdata_base/2/*\",\n",
    "#     \"./ACDB/ACdata_base/3/*\",\n",
    "#     \"./ACDB/ACdata_base/4/*\",\n",
    "#     \"./ACDB/ACdata_base/5/*\",\n",
    "#     \"./ACDB/ACdata_base/6/*\",\n",
    "#     \"./ACDB/ACdata_base/7/*\",\n",
    "#     \"./ACDB/ACdata_base/8/*\",\n",
    "#     \"./ACDB/ACdata_base/9/*\"\n",
    "# ]\n",
    "# for path in pathes:\n",
    "#     i= 0\n",
    "#     HIMG = []\n",
    "#     VIMG = []\n",
    "#     Images = []\n",
    "#     print(path)\n",
    "#     f.write(path)\n",
    "#     f.write('\\n')\n",
    "\n",
    "#     Images = readImagesFromFile(path)\n",
    "#     print(len(Images))\n",
    "#     for img in Images:\n",
    "#         gray = cv2.cvtColor(img, cv2.COLOR_BGR2GRAY)\n",
    "#         _, bw = cv2.threshold(gray, 150, 255, cv2.THRESH_BINARY)\n",
    "#         try:\n",
    "#             h,v = HV(bw)\n",
    "#             HIMG.append(h)\n",
    "#             VIMG.append(v)\n",
    "#         except:\n",
    "#             i +=1\n",
    "#     print(\"number of error images : \", i)\n",
    "#     f.write(\"number of error images : \" )\n",
    "#     f.write(str(i))\n",
    "#     f.write('\\n')\n",
    "#     # print(\"num\",len(HIMG),len(VIMG))\n",
    "#     vNumber = []\n",
    "#     hNumber = []\n",
    "#     for img in HIMG:\n",
    "#         # gray = cv2.cvtColor(img, cv2.COLOR_BGR2GRAY)\n",
    "#         num_labels, labels = cv2.connectedComponents(img)\n",
    "#         vNumber.append(num_labels)\n",
    "#     for img in VIMG:\n",
    "#         # gray = cv2.cvtColor(img, cv2.COLOR_BGR2GRAY)\n",
    "#         num_labels, labels = cv2.connectedComponents(img)\n",
    "#         hNumber.append(num_labels)\n",
    "#     feature = []\n",
    "#     for i in range(0, len(vNumber)):\n",
    "#         feature.append(vNumber[i]/hNumber[i])\n",
    "#     feature = np.array(feature)\n",
    "#     print(\"number of images\",len(vNumber))\n",
    "#     f.write(\"number of images :\")\n",
    "#     f.write(str(len(vNumber)))\n",
    "#     f.write('\\n')\n",
    "#     print(\"number of images that not exceeded the  0.5 ratio :\",len(feature[feature < 0.5]))\n",
    "#     f.write(\"number of images that not exceeded the  0.5 ratio :\")\n",
    "#     f.write(str(len(feature[feature < 0.5])))\n",
    "#     f.write('\\n')\n",
    "#     print(\"percentage of Images exceeded the ratio \",\n",
    "#           (1-(len(feature[feature < 0.5])/len(vNumber)))*100,\"%\")\n",
    "#     f.write(\"percentage of Images exceeded the ratio \")\n",
    "#     f.write(str((1-(len(feature[feature < 0.5])/len(vNumber)))*100))\n",
    "#     f.write(\"%\")\n",
    "#     f.write('\\n')\n",
    "\n",
    "# f.close()\n"
   ]
  },
  {
   "cell_type": "code",
   "execution_count": 72,
   "metadata": {},
   "outputs": [
    {
     "data": {
      "image/png": "[encoded data removed]",
      "text/plain": [
       "<Figure size 432x288 with 1 Axes>"
      ]
     },
     "metadata": {
      "needs_background": "light"
     },
     "output_type": "display_data"
    },
    {
     "data": {
      "image/png": "[encoded data removed]",
      "text/plain": [
       "<Figure size 432x288 with 1 Axes>"
      ]
     },
     "metadata": {
      "needs_background": "light"
     },
     "output_type": "display_data"
    },
    {
     "data": {
      "image/png": "[encoded data removed]",
      "text/plain": [
       "<Figure size 432x288 with 1 Axes>"
      ]
     },
     "metadata": {
      "needs_background": "light"
     },
     "output_type": "display_data"
    }
   ],
   "source": [
    "readImagesFromFile(\"./ACDB/ACdata_base/9/*\")\n",
    "\n",
    "img = Images[1]\n",
    "gray = cv2.cvtColor(img, cv2.COLOR_BGR2GRAY)\n",
    "plt.imshow(gray ,cmap=\"gray\")\n",
    "plt.show()\n",
    "ret, thresh = cv2.threshold(gray, 0, 255, cv2.THRESH_BINARY_INV | cv2.THRESH_OTSU)\n",
    "plt.imshow(thresh,cmap=\"gray\")\n",
    "plt.show()\n",
    "edges = cv2.Canny(thresh, 50, 150, apertureSize=3)\n",
    "plt.imshow(edges, cmap=\"gray\")\n",
    "plt.show()\n",
    "# coords = np.column_stack(np.where(thresh > 0))\n",
    "# print(coords)\n",
    "# angle = cv2.minAreaRect(coords)[-1]\n",
    "# print(angle)\n",
    "\n",
    "# if angle < -45:\n",
    "#   angle = -(90 + angle)\n",
    "# else:\n",
    "#   angle = -angle\n",
    "\n",
    "# h, w = img.shape[:2]\n",
    "# center = (w//2, h//2)\n",
    "# print(angle)\n",
    "# M = cv2.getRotationMatrix2D(center, angle, 1.0)\n",
    "# rotated = cv2.warpAffine(\n",
    "#     img, M, (w, h), flags=cv2.INTER_CUBIC, borderMode=cv2.BORDER_REPLICATE)\n",
    "# cv2.putText(rotated, 'Angle: {:.2f} degrees'.format(\n",
    "#     angle), (10, 30), cv2.FONT_HERSHEY_SIMPLEX, 0.7, (0, 0, 255), 2)\n",
    "# print('angel :{:.3f}'.format(angle))\n",
    "# plt.imshow(rotated, cmap=\"gray\")\n",
    "# plt.show()\n"
   ]
  },
  {
   "cell_type": "code",
   "execution_count": 10,
   "metadata": {},
   "outputs": [
    {
     "ename": "ValueError",
     "evalue": "not enough values to unpack (expected 4, got 2)",
     "output_type": "error",
     "traceback": [
      "\u001b[1;31m---------------------------------------------------------------------------\u001b[0m",
      "\u001b[1;31mValueError\u001b[0m                                Traceback (most recent call last)",
      "\u001b[1;32m~\\AppData\\Local\\Temp/ipykernel_18100/2875068637.py\u001b[0m in \u001b[0;36m<module>\u001b[1;34m\u001b[0m\n\u001b[0;32m     11\u001b[0m     \u001b[1;32mfor\u001b[0m \u001b[0mimgPath\u001b[0m \u001b[1;32min\u001b[0m \u001b[0mimgsPaths\u001b[0m\u001b[1;33m:\u001b[0m\u001b[1;33m\u001b[0m\u001b[1;33m\u001b[0m\u001b[0m\n\u001b[0;32m     12\u001b[0m         \u001b[0mimgs\u001b[0m\u001b[1;33m.\u001b[0m\u001b[0mappend\u001b[0m\u001b[1;33m(\u001b[0m\u001b[0mhelpers\u001b[0m\u001b[1;33m.\u001b[0m\u001b[0mreadImageGray\u001b[0m\u001b[1;33m(\u001b[0m\u001b[0mimgPath\u001b[0m\u001b[1;33m)\u001b[0m\u001b[1;33m)\u001b[0m\u001b[1;33m\u001b[0m\u001b[1;33m\u001b[0m\u001b[0m\n\u001b[1;32m---> 13\u001b[1;33m     \u001b[0mX_train\u001b[0m\u001b[1;33m,\u001b[0m \u001b[0mX_rem\u001b[0m\u001b[1;33m,\u001b[0m \u001b[0mY_train\u001b[0m\u001b[1;33m,\u001b[0m \u001b[0mY_rem\u001b[0m \u001b[1;33m=\u001b[0m \u001b[0mtrain_test_split\u001b[0m\u001b[1;33m(\u001b[0m\u001b[0mimgs\u001b[0m\u001b[1;33m,\u001b[0m  \u001b[0mtrain_size\u001b[0m\u001b[1;33m=\u001b[0m\u001b[1;36m0.6\u001b[0m\u001b[1;33m)\u001b[0m\u001b[1;33m\u001b[0m\u001b[1;33m\u001b[0m\u001b[0m\n\u001b[0m\u001b[0;32m     14\u001b[0m     \u001b[0mX_valid\u001b[0m\u001b[1;33m,\u001b[0m \u001b[0mX_test\u001b[0m\u001b[1;33m,\u001b[0m \u001b[0mY_valid\u001b[0m\u001b[1;33m,\u001b[0m \u001b[0mY_test\u001b[0m \u001b[1;33m=\u001b[0m \u001b[0mtrain_test_split\u001b[0m\u001b[1;33m(\u001b[0m\u001b[0mX_rem\u001b[0m\u001b[1;33m,\u001b[0m \u001b[0mtrain_size\u001b[0m\u001b[1;33m=\u001b[0m\u001b[1;36m0.5\u001b[0m\u001b[1;33m)\u001b[0m\u001b[1;33m\u001b[0m\u001b[1;33m\u001b[0m\u001b[0m\n\u001b[0;32m     15\u001b[0m     \u001b[0mprint\u001b[0m\u001b[1;33m(\u001b[0m\u001b[0mlen\u001b[0m\u001b[1;33m(\u001b[0m\u001b[0mX_train\u001b[0m\u001b[1;33m)\u001b[0m\u001b[1;33m)\u001b[0m\u001b[1;33m\u001b[0m\u001b[1;33m\u001b[0m\u001b[0m\n",
      "\u001b[1;31mValueError\u001b[0m: not enough values to unpack (expected 4, got 2)"
     ]
    }
   ],
   "source": [
    "from sklearn.model_selection import train_test_split\n",
    "import math\n",
    "import helpers\n",
    "import preprocessing\n",
    "import extract_features\n",
    "\n",
    "for i in range(1, 10):\n",
    "    imgsPaths = helpers.getImgsPaths(\"./ACDB/ACdata_base/\"+str(i))\n",
    "    imgs = []\n",
    "    #print(imgsPaths)\n",
    "    for imgPath in imgsPaths:\n",
    "        imgs.append(helpers.readImageGray(imgPath))\n",
    "    X_train, X_rem, Y_train, Y_rem = train_test_split(imgs,  train_size=0.6)\n",
    "    X_valid, X_test, Y_valid, Y_test = train_test_split(X_rem, train_size=0.5)\n",
    "    print(len(X_train))\n",
    "    print(len(X_valid))\n",
    "    print(len(X_test))\n"
   ]
  }
 ],
 "metadata": {
  "interpreter": {
   "hash": "b3ba2566441a7c06988d0923437866b63cedc61552a5af99d1f4fb67d367b25f"
  },
  "kernelspec": {
   "display_name": "Python 3.8.8 64-bit ('base': conda)",
   "language": "python",
   "name": "python3"
  },
  "language_info": {
   "codemirror_mode": {
    "name": "ipython",
    "version": 3
   },
   "file_extension": ".py",
   "mimetype": "text/x-python",
   "name": "python",
   "nbconvert_exporter": "python",
   "pygments_lexer": "ipython3",
   "version": "3.8.8"
  },
  "orig_nbformat": 4
 },
 "nbformat": 4,
 "nbformat_minor": 2
}
