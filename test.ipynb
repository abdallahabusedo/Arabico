{
 "cells": [
  {
   "cell_type": "code",
   "execution_count": 2,
   "metadata": {},
   "outputs": [],
   "source": [
    "import cv2 as cv2\n",
    "import numpy as np\n",
    "import math\n",
    "import glob\n",
    "import matplotlib.pyplot as plt\n",
    "from mpl_toolkits.mplot3d import Axes3D\n",
    "import os\n",
    "\n",
    "%matplotlib inline\n"
   ]
  },
  {
   "cell_type": "code",
   "execution_count": 3,
   "metadata": {},
   "outputs": [],
   "source": [
    "Images = []\n",
    "def readImagesFromFile(path):\n",
    "    for filename in glob.glob(path):\n",
    "        img = cv2.imread(filename)  # cv2.imread reads images in RGB format\n",
    "        Images.append(img)\n",
    "    return Images\n"
   ]
  },
  {
   "cell_type": "code",
   "execution_count": 4,
   "metadata": {},
   "outputs": [],
   "source": [
    "def HV(bw):\n",
    "    # _,bw = cv2.threshold(gray, 150, 255, cv2.THRESH_BINARY)\n",
    "    edges = cv2.Canny(bw, 50, 150, apertureSize=3)\n",
    "    horizontal = np.copy(edges)\n",
    "    vertical = np.copy(edges)\n",
    "    # Specify size on horizontal axis\n",
    "    cols = horizontal.shape[1]\n",
    "    horizontal_size = cols // 30\n",
    "    # print(horizontal_size)\n",
    "    # Create structure element for extracting horizontal lines through morphology operations\n",
    "    horizontalStructure = cv2.getStructuringElement(\n",
    "        cv2.MORPH_RECT, (horizontal_size, 1))\n",
    "    # Apply morphology operations\n",
    "    horizontal = cv2.erode(horizontal, horizontalStructure)\n",
    "    horizontal = cv2.dilate(horizontal, horizontalStructure)\n",
    "    # Show extracted horizontal lines\n",
    "    # Specify size on vertical axis\n",
    "    rows = vertical.shape[0]\n",
    "    verticalsize = rows // 30\n",
    "    # Create structure element for extracting vertical lines through morphology operations\n",
    "    verticalStructure = cv2.getStructuringElement(\n",
    "        cv2.MORPH_RECT, (1, verticalsize))\n",
    "    # Apply morphology operations\n",
    "    vertical = cv2.erode(vertical, verticalStructure)\n",
    "    vertical = cv2.dilate(vertical, verticalStructure)\n",
    "\n",
    "    return horizontal,vertical\n"
   ]
  },
  {
   "cell_type": "code",
   "execution_count": 5,
   "metadata": {},
   "outputs": [
    {
     "name": "stdout",
     "output_type": "stream",
     "text": [
      "./ACDB/ACdata_base/1/*\n",
      "190\n",
      "number of error images :  0\n",
      "number of images 190\n",
      "number of images that not exceeded the  0.5 ratio : 190\n",
      "percentage of Images exceeded the ratio  0.0 %\n",
      "./ACDB/ACdata_base/2/*\n",
      "190\n",
      "number of error images :  0\n",
      "number of images 190\n",
      "number of images that not exceeded the  0.5 ratio : 182\n",
      "percentage of Images exceeded the ratio  4.210526315789476 %\n",
      "./ACDB/ACdata_base/3/*\n",
      "180\n",
      "number of error images :  0\n",
      "number of images 180\n",
      "number of images that not exceeded the  0.5 ratio : 173\n",
      "percentage of Images exceeded the ratio  3.888888888888886 %\n",
      "./ACDB/ACdata_base/4/*\n",
      "185\n",
      "number of error images :  0\n",
      "number of images 185\n",
      "number of images that not exceeded the  0.5 ratio : 179\n",
      "percentage of Images exceeded the ratio  3.2432432432432434 %\n",
      "./ACDB/ACdata_base/5/*\n",
      "195\n",
      "number of error images :  0\n",
      "number of images 195\n",
      "number of images that not exceeded the  0.5 ratio : 189\n",
      "percentage of Images exceeded the ratio  3.076923076923077 %\n",
      "./ACDB/ACdata_base/6/*\n",
      "180\n",
      "number of error images :  2\n",
      "number of images 178\n",
      "number of images that not exceeded the  0.5 ratio : 166\n",
      "percentage of Images exceeded the ratio  6.741573033707871 %\n",
      "./ACDB/ACdata_base/7/*\n",
      "185\n",
      "number of error images :  0\n",
      "number of images 185\n",
      "number of images that not exceeded the  0.5 ratio : 177\n",
      "percentage of Images exceeded the ratio  4.324324324324325 %\n",
      "./ACDB/ACdata_base/8/*\n",
      "190\n",
      "number of error images :  0\n",
      "number of images 190\n",
      "number of images that not exceeded the  0.5 ratio : 175\n",
      "percentage of Images exceeded the ratio  7.8947368421052655 %\n",
      "./ACDB/ACdata_base/9/*\n",
      "190\n",
      "number of error images :  0\n",
      "number of images 190\n",
      "number of images that not exceeded the  0.5 ratio : 20\n",
      "percentage of Images exceeded the ratio  89.47368421052632 %\n"
     ]
    }
   ],
   "source": [
    "f = open(\"test.txt\", \"a\")\n",
    "\n",
    "pathes = [\n",
    "    \"./ACDB/ACdata_base/1/*\",\n",
    "    \"./ACDB/ACdata_base/2/*\",\n",
    "    \"./ACDB/ACdata_base/3/*\",\n",
    "    \"./ACDB/ACdata_base/4/*\",\n",
    "    \"./ACDB/ACdata_base/5/*\",\n",
    "    \"./ACDB/ACdata_base/6/*\",\n",
    "    \"./ACDB/ACdata_base/7/*\",\n",
    "    \"./ACDB/ACdata_base/8/*\",\n",
    "    \"./ACDB/ACdata_base/9/*\"\n",
    "]\n",
    "for path in pathes:\n",
    "    i= 0\n",
    "    HIMG = []\n",
    "    VIMG = []\n",
    "    Images = []\n",
    "    print(path)\n",
    "    f.write(path)\n",
    "    f.write('\\n')\n",
    "\n",
    "    Images = readImagesFromFile(path)\n",
    "    print(len(Images))\n",
    "    for img in Images:\n",
    "        gray = cv2.cvtColor(img, cv2.COLOR_BGR2GRAY)\n",
    "        _, bw = cv2.threshold(gray, 150, 255, cv2.THRESH_BINARY)\n",
    "        try:\n",
    "            h,v = HV(bw)\n",
    "            HIMG.append(h)\n",
    "            VIMG.append(v)\n",
    "        except:\n",
    "            i +=1\n",
    "    print(\"number of error images : \", i)\n",
    "    f.write(\"number of error images : \" )\n",
    "    f.write(str(i))\n",
    "    f.write('\\n')\n",
    "    # print(\"num\",len(HIMG),len(VIMG))\n",
    "    vNumber = []\n",
    "    hNumber = []\n",
    "    for img in HIMG:\n",
    "        # gray = cv2.cvtColor(img, cv2.COLOR_BGR2GRAY)\n",
    "        num_labels, labels = cv2.connectedComponents(img)\n",
    "        vNumber.append(num_labels)\n",
    "    for img in VIMG:\n",
    "        # gray = cv2.cvtColor(img, cv2.COLOR_BGR2GRAY)\n",
    "        num_labels, labels = cv2.connectedComponents(img)\n",
    "        hNumber.append(num_labels)\n",
    "    feature = []\n",
    "    for i in range(0, len(vNumber)):\n",
    "        feature.append(vNumber[i]/hNumber[i])\n",
    "    feature = np.array(feature)\n",
    "    print(\"number of images\",len(vNumber))\n",
    "    f.write(\"number of images :\")\n",
    "    f.write(str(len(vNumber)))\n",
    "    f.write('\\n')\n",
    "    print(\"number of images that not exceeded the  0.5 ratio :\",len(feature[feature < 0.5]))\n",
    "    f.write(\"number of images that not exceeded the  0.5 ratio :\")\n",
    "    f.write(str(len(feature[feature < 0.5])))\n",
    "    f.write('\\n')\n",
    "    print(\"percentage of Images exceeded the ratio \",\n",
    "          (1-(len(feature[feature < 0.5])/len(vNumber)))*100,\"%\")\n",
    "    f.write(\"percentage of Images exceeded the ratio \")\n",
    "    f.write(str((1-(len(feature[feature < 0.5])/len(vNumber)))*100))\n",
    "    f.write(\"%\")\n",
    "    f.write('\\n')\n",
    "\n",
    "f.close()\n"
   ]
  },
  {
   "cell_type": "code",
   "execution_count": 18,
   "metadata": {},
   "outputs": [
    {
     "name": "stdout",
     "output_type": "stream",
     "text": [
      "./ACDB/ACdata_base/1/*\n",
      "190\n"
     ]
    },
    {
     "data": {
      "image/png": "[encoded data removed]",
      "text/plain": [
       "<Figure size 432x288 with 1 Axes>"
      ]
     },
     "metadata": {
      "needs_background": "light"
     },
     "output_type": "display_data"
    },
    {
     "data": {
      "image/png": "[encoded data removed]",
      "text/plain": [
       "<Figure size 432x288 with 1 Axes>"
      ]
     },
     "metadata": {
      "needs_background": "light"
     },
     "output_type": "display_data"
    },
    {
     "name": "stdout",
     "output_type": "stream",
     "text": [
      "./ACDB/ACdata_base/2/*\n",
      "190\n"
     ]
    },
    {
     "data": {
      "image/png": "[encoded data removed]",
      "text/plain": [
       "<Figure size 432x288 with 1 Axes>"
      ]
     },
     "metadata": {
      "needs_background": "light"
     },
     "output_type": "display_data"
    },
    {
     "data": {
      "image/png": "[encoded data removed]",
      "text/plain": [
       "<Figure size 432x288 with 1 Axes>"
      ]
     },
     "metadata": {
      "needs_background": "light"
     },
     "output_type": "display_data"
    },
    {
     "name": "stdout",
     "output_type": "stream",
     "text": [
      "./ACDB/ACdata_base/3/*\n",
      "180\n"
     ]
    },
    {
     "data": {
      "image/png": "[encoded data removed]",
      "text/plain": [
       "<Figure size 432x288 with 1 Axes>"
      ]
     },
     "metadata": {
      "needs_background": "light"
     },
     "output_type": "display_data"
    },
    {
     "data": {
      "image/png": "[encoded data removed]",
      "text/plain": [
       "<Figure size 432x288 with 1 Axes>"
      ]
     },
     "metadata": {
      "needs_background": "light"
     },
     "output_type": "display_data"
    },
    {
     "name": "stdout",
     "output_type": "stream",
     "text": [
      "./ACDB/ACdata_base/4/*\n",
      "185\n"
     ]
    },
    {
     "data": {
      "image/png": "[encoded data removed]",
      "text/plain": [
       "<Figure size 432x288 with 1 Axes>"
      ]
     },
     "metadata": {
      "needs_background": "light"
     },
     "output_type": "display_data"
    },
    {
     "data": {
      "image/png": "[encoded data removed]",
      "text/plain": [
       "<Figure size 432x288 with 1 Axes>"
      ]
     },
     "metadata": {
      "needs_background": "light"
     },
     "output_type": "display_data"
    },
    {
     "name": "stdout",
     "output_type": "stream",
     "text": [
      "./ACDB/ACdata_base/5/*\n",
      "195\n"
     ]
    },
    {
     "data": {
      "image/png": "[encoded data removed]",
      "text/plain": [
       "<Figure size 432x288 with 1 Axes>"
      ]
     },
     "metadata": {
      "needs_background": "light"
     },
     "output_type": "display_data"
    },
    {
     "data": {
      "image/png": "[encoded data removed]",
      "text/plain": [
       "<Figure size 432x288 with 1 Axes>"
      ]
     },
     "metadata": {
      "needs_background": "light"
     },
     "output_type": "display_data"
    },
    {
     "name": "stdout",
     "output_type": "stream",
     "text": [
      "./ACDB/ACdata_base/6/*\n",
      "180\n"
     ]
    },
    {
     "ename": "error",
     "evalue": "OpenCV(4.5.3) c:\\users\\runneradmin\\appdata\\local\\temp\\pip-req-build-q3d_8t8e\\opencv\\modules\\imgproc\\src\\filterengine.hpp:367: error: (-215:Assertion failed) anchor.inside(Rect(0, 0, ksize.width, ksize.height)) in function 'cv::normalizeAnchor'\n",
     "output_type": "error",
     "traceback": [
      "\u001b[1;31m---------------------------------------------------------------------------\u001b[0m",
      "\u001b[1;31merror\u001b[0m                                     Traceback (most recent call last)",
      "\u001b[1;32m~\\AppData\\Local\\Temp/ipykernel_15464/3903054299.py\u001b[0m in \u001b[0;36m<module>\u001b[1;34m\u001b[0m\n\u001b[0;32m     49\u001b[0m         \u001b[0mgray\u001b[0m \u001b[1;33m=\u001b[0m \u001b[0mcv2\u001b[0m\u001b[1;33m.\u001b[0m\u001b[0mcvtColor\u001b[0m\u001b[1;33m(\u001b[0m\u001b[0mimg\u001b[0m\u001b[1;33m,\u001b[0m \u001b[0mcv2\u001b[0m\u001b[1;33m.\u001b[0m\u001b[0mCOLOR_BGR2GRAY\u001b[0m\u001b[1;33m)\u001b[0m\u001b[1;33m\u001b[0m\u001b[1;33m\u001b[0m\u001b[0m\n\u001b[0;32m     50\u001b[0m \u001b[1;33m\u001b[0m\u001b[0m\n\u001b[1;32m---> 51\u001b[1;33m         \u001b[0mh\u001b[0m\u001b[1;33m,\u001b[0m \u001b[0mv\u001b[0m \u001b[1;33m=\u001b[0m \u001b[0mHV\u001b[0m\u001b[1;33m(\u001b[0m\u001b[0mgray\u001b[0m\u001b[1;33m)\u001b[0m\u001b[1;33m\u001b[0m\u001b[1;33m\u001b[0m\u001b[0m\n\u001b[0m\u001b[0;32m     52\u001b[0m         \u001b[0mEdgeres\u001b[0m\u001b[1;33m.\u001b[0m\u001b[0mappend\u001b[0m\u001b[1;33m(\u001b[0m\u001b[0mh\u001b[0m\u001b[1;33m)\u001b[0m\u001b[1;33m\u001b[0m\u001b[1;33m\u001b[0m\u001b[0m\n\u001b[0;32m     53\u001b[0m         \u001b[0mSkeres\u001b[0m\u001b[1;33m.\u001b[0m\u001b[0mappend\u001b[0m\u001b[1;33m(\u001b[0m\u001b[0mv\u001b[0m\u001b[1;33m)\u001b[0m\u001b[1;33m\u001b[0m\u001b[1;33m\u001b[0m\u001b[0m\n",
      "\u001b[1;32m~\\AppData\\Local\\Temp/ipykernel_15464/2726077837.py\u001b[0m in \u001b[0;36mHV\u001b[1;34m(bw)\u001b[0m\n\u001b[0;32m     19\u001b[0m     \u001b[0mverticalsize\u001b[0m \u001b[1;33m=\u001b[0m \u001b[0mrows\u001b[0m \u001b[1;33m//\u001b[0m \u001b[1;36m30\u001b[0m\u001b[1;33m\u001b[0m\u001b[1;33m\u001b[0m\u001b[0m\n\u001b[0;32m     20\u001b[0m     \u001b[1;31m# Create structure element for extracting vertical lines through morphology operations\u001b[0m\u001b[1;33m\u001b[0m\u001b[1;33m\u001b[0m\u001b[1;33m\u001b[0m\u001b[0m\n\u001b[1;32m---> 21\u001b[1;33m     verticalStructure = cv2.getStructuringElement(\n\u001b[0m\u001b[0;32m     22\u001b[0m         cv2.MORPH_RECT, (1, verticalsize))\n\u001b[0;32m     23\u001b[0m     \u001b[1;31m# Apply morphology operations\u001b[0m\u001b[1;33m\u001b[0m\u001b[1;33m\u001b[0m\u001b[1;33m\u001b[0m\u001b[0m\n",
      "\u001b[1;31merror\u001b[0m: OpenCV(4.5.3) c:\\users\\runneradmin\\appdata\\local\\temp\\pip-req-build-q3d_8t8e\\opencv\\modules\\imgproc\\src\\filterengine.hpp:367: error: (-215:Assertion failed) anchor.inside(Rect(0, 0, ksize.width, ksize.height)) in function 'cv::normalizeAnchor'\n"
     ]
    }
   ],
   "source": [
    "import helpers\n",
    "import preprocessing\n",
    "import extract_features\n",
    "def LVL(_gray_image,isTextBlack):\n",
    "    img_bin = preprocessing.binarization(_gray_image, isTextBlack)\n",
    "    img_skeleton = preprocessing.skeletonization(img_bin)\n",
    "    bw = np.uint8(img_bin)*255  # 0 ,1\n",
    "    edges = cv2.Canny(bw, 50, 150, apertureSize=3)\n",
    "    vertical = np.copy(edges)\n",
    "    vertical2 = np.copy(img_skeleton)\n",
    "    # Show extracted horizontal lines\n",
    "    # Specify size on vertical axis\n",
    "    rows = vertical.shape[0]\n",
    "    verticalsize = max(rows // 30, 2)\n",
    "    # Create structure element for extracting vertical lines through morphology operations\n",
    "    verticalStructure = cv2.getStructuringElement(\n",
    "        cv2.MORPH_RECT, (1, verticalsize))\n",
    "    # Apply morphology operations\n",
    "    vertical = cv2.erode(vertical, verticalStructure)\n",
    "    verticalEdge = cv2.dilate(vertical, verticalStructure)\n",
    "    vertical2 = cv2.erode(vertical2, verticalStructure)\n",
    "    verticalSke = cv2.dilate(vertical2, verticalStructure)\n",
    "    return verticalEdge, verticalSke\n",
    "\n",
    "f = open(\"test.txt\", \"a\")\n",
    "pathes = [\n",
    "    \"./ACDB/ACdata_base/1/*\",\n",
    "    \"./ACDB/ACdata_base/2/*\",\n",
    "    \"./ACDB/ACdata_base/3/*\",\n",
    "    \"./ACDB/ACdata_base/4/*\",\n",
    "    \"./ACDB/ACdata_base/5/*\",\n",
    "    \"./ACDB/ACdata_base/6/*\",\n",
    "    \"./ACDB/ACdata_base/7/*\",\n",
    "    \"./ACDB/ACdata_base/8/*\",\n",
    "    \"./ACDB/ACdata_base/9/*\"\n",
    "]\n",
    "for path in pathes:\n",
    "    i = 0\n",
    "    Edgeres = []\n",
    "    Skeres = []\n",
    "    Images = []\n",
    "    print(path)\n",
    "    f.write(path)\n",
    "    f.write('\\n')\n",
    "\n",
    "    Images = readImagesFromFile(path)\n",
    "    print(len(Images))\n",
    "    for img in Images:\n",
    "        gray = cv2.cvtColor(img, cv2.COLOR_BGR2GRAY)\n",
    "    \n",
    "        h, v = HV(gray)\n",
    "        Edgeres.append(h)\n",
    "        Skeres.append(v)\n",
    "    f.write(\"number of error images : \")\n",
    "    f.write(str(i))\n",
    "    f.write('\\n')\n",
    "    plt.imshow(Edgeres[0],cmap=\"gray\")\n",
    "    plt.show()\n",
    "    plt.imshow(Skeres[0], cmap=\"gray\")\n",
    "    plt.show()\n",
    "    # print(\"num\",len(Edgeres),len(Skeres))\n",
    "    # vNumber = []\n",
    "    # hNumber = []\n",
    "    # for img in Edgeres:\n",
    "    #     # gray = cv2.cvtColor(img, cv2.COLOR_BGR2GRAY)\n",
    "    #     num_labels, labels = cv2.connectedComponents(img)\n",
    "    #     vNumber.append(num_labels)\n",
    "    # for img in Skeres:\n",
    "    #     # gray = cv2.cvtColor(img, cv2.COLOR_BGR2GRAY)\n",
    "    #     num_labels, labels = cv2.connectedComponents(img)\n",
    "    #     hNumber.append(num_labels)\n",
    "    # feature = []\n",
    "    # for i in range(0, len(vNumber)):\n",
    "    #     feature.append(vNumber[i]/hNumber[i])\n",
    "    # feature = np.array(feature)\n",
    "    # print(\"number of images\", len(vNumber))\n",
    "    # f.write(\"number of images :\")\n",
    "    # f.write(str(len(vNumber)))\n",
    "    # f.write('\\n')\n",
    "    # print(\"number of images that not exceeded the  0.5 ratio :\",\n",
    "    #       len(feature[feature < 0.5]))\n",
    "    # f.write(\"number of images that not exceeded the  0.5 ratio :\")\n",
    "    # f.write(str(len(feature[feature < 0.5])))\n",
    "    # f.write('\\n')\n",
    "    # print(\"percentage of Images exceeded the ratio \",\n",
    "    #       (1-(len(feature[feature < 0.5])/len(vNumber)))*100, \"%\")\n",
    "    # f.write(\"percentage of Images exceeded the ratio \")\n",
    "    # f.write(str((1-(len(feature[feature < 0.5])/len(vNumber)))*100))\n",
    "    # f.write(\"%\")\n",
    "    # f.write('\\n')\n",
    "\n",
    "f.close()\n"
   ]
  }
 ],
 "metadata": {
  "interpreter": {
   "hash": "b3ba2566441a7c06988d0923437866b63cedc61552a5af99d1f4fb67d367b25f"
  },
  "kernelspec": {
   "display_name": "Python 3.8.8 64-bit ('base': conda)",
   "language": "python",
   "name": "python3"
  },
  "language_info": {
   "codemirror_mode": {
    "name": "ipython",
    "version": 3
   },
   "file_extension": ".py",
   "mimetype": "text/x-python",
   "name": "python",
   "nbconvert_exporter": "python",
   "pygments_lexer": "ipython3",
   "version": "3.8.8"
  },
  "orig_nbformat": 4
 },
 "nbformat": 4,
 "nbformat_minor": 2
}
